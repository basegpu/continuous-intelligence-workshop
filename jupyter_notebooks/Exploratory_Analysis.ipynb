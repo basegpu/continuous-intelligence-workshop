{
 "cells": [
  {
   "cell_type": "markdown",
   "metadata": {},
   "source": [
    "## Exploratory Analysis using Jupyter Notebook\n",
    "For further reading, we recommend: \n",
    "- [the pandas documentation](http://pandas.pydata.org/pandas-docs/stable/getting_started/10min.html#getting)  for information about using DataFrames\n",
    "- [this blog post](https://towardsdatascience.com/introduction-to-data-visualization-in-python-89a54c97fbed) for a jumpstart into visualizations\n",
    "- [the matplotlib documentation](https://matplotlib.org/users/pyplot_tutorial.html) for more info about visualizations"
   ]
  },
  {
   "cell_type": "code",
   "execution_count": 1,
   "metadata": {},
   "outputs": [],
   "source": [
    "import pandas as pd\n",
    "import numpy as np"
   ]
  },
  {
   "cell_type": "markdown",
   "metadata": {},
   "source": [
    "#### Loading data from our GPC bucket"
   ]
  },
  {
   "cell_type": "code",
   "execution_count": 57,
   "metadata": {},
   "outputs": [
    {
     "name": "stdout",
     "output_type": "stream",
     "text": [
      "twde-datalab/raw/\n",
      "twde-datalab/raw/bigTable.csv\n",
      "twde-datalab/raw/cities.csv\n",
      "twde-datalab/raw/cpi.csv\n",
      "twde-datalab/raw/holidays_events.csv\n",
      "twde-datalab/raw/items.csv\n",
      "twde-datalab/raw/last_year_train.csv\n",
      "twde-datalab/raw/oil.csv\n",
      "twde-datalab/raw/quito_stores_sample.csv\n",
      "twde-datalab/raw/quito_stores_sample2016-2017.csv\n",
      "twde-datalab/raw/sample_submission.csv\n",
      "twde-datalab/raw/sample_test.csv\n",
      "twde-datalab/raw/sample_train.csv\n",
      "twde-datalab/raw/store47-2016.csv\n",
      "twde-datalab/raw/stores.csv\n",
      "twde-datalab/raw/test.csv\n",
      "twde-datalab/raw/train.csv\n",
      "twde-datalab/raw/train30days.csv\n",
      "twde-datalab/raw/transactions.csv\n"
     ]
    }
   ],
   "source": [
    "import s3fs\n",
    "s3 = s3fs.S3FileSystem(anon=True)\n",
    "base = 'twde-datalab/raw'\n",
    "for full_file in s3.ls(base):\n",
    "    file = full_file[len(base)+1::]\n",
    "    print(full_file)\n",
    "    if (len(file)):\n",
    "        s3.get(full_file, '../data/%s'%file)"
   ]
  },
  {
   "cell_type": "code",
   "execution_count": 12,
   "metadata": {},
   "outputs": [
    {
     "name": "stdout",
     "output_type": "stream",
     "text": [
      "store47-2016 79 MB\n",
      "loading ../data/store47-2016.csv\n",
      "train30days 125 MB\n",
      "loading ../data/train30days.csv\n",
      "train 4765 MB\n",
      "items 0 MB\n",
      "loading ../data/items.csv\n",
      "sample_train 0 MB\n",
      "loading ../data/sample_train.csv\n",
      "sample_test 0 MB\n",
      "loading ../data/sample_test.csv\n",
      "quito_stores_sample2016-2017 340 MB\n",
      "loading ../data/quito_stores_sample2016-2017.csv\n",
      "oil 0 MB\n",
      "loading ../data/oil.csv\n",
      "sample_submission 38 MB\n",
      "loading ../data/sample_submission.csv\n",
      "last_year_train 1479 MB\n",
      "cpi 0 MB\n",
      "loading ../data/cpi.csv\n",
      "cities 0 MB\n",
      "loading ../data/cities.csv\n",
      "quito_stores_sample 1328 MB\n",
      "bigTable 687 MB\n",
      "transactions 1 MB\n",
      "loading ../data/transactions.csv\n",
      "test 120 MB\n",
      "loading ../data/test.csv\n",
      "holidays_events 0 MB\n",
      "loading ../data/holidays_events.csv\n",
      "stores 0 MB\n",
      "loading ../data/stores.csv\n"
     ]
    }
   ],
   "source": [
    "import glob\n",
    "import os\n",
    "\n",
    "csvs = glob.glob('../data/*.csv')\n",
    "raw = {}\n",
    "\n",
    "for file in csvs:\n",
    "    size = int(os.path.getsize(file)/1024/1024)\n",
    "    name = file.split('/')[-1].split('.')[0]\n",
    "    print(name, size, 'MB')\n",
    "    if size<512:\n",
    "        print('loading %s'%file)\n",
    "        raw[name] = pd.read_csv(file)"
   ]
  },
  {
   "cell_type": "code",
   "execution_count": 24,
   "metadata": {},
   "outputs": [
    {
     "name": "stdout",
     "output_type": "stream",
     "text": [
      "\u001b[1m\u001b[91mstore47-2016 (997231, 15)\u001b[0m\n",
      "   Unnamed: 0        id        date  item_nbr  unit_sales        family  \\\n",
      "0        7808  88219279  2016-08-16    103520        10.0     GROCERY I   \n",
      "1        7809  88219280  2016-08-16    103665         4.0  BREAD/BAKERY   \n",
      "2        7810  88219281  2016-08-16    105574         9.0     GROCERY I   \n",
      "3        7811  88219282  2016-08-16    105575        45.0     GROCERY I   \n",
      "4        7812  88219283  2016-08-16    105577         8.0     GROCERY I   \n",
      "\n",
      "   class  perishable  transactions  year  month  day  dayofweek  \\\n",
      "0   1028           0          3570  2016      8   16          1   \n",
      "1   2712           1          3570  2016      8   16          1   \n",
      "2   1045           0          3570  2016      8   16          1   \n",
      "3   1045           0          3570  2016      8   16          1   \n",
      "4   1045           0          3570  2016      8   16          1   \n",
      "\n",
      "   days_til_end_of_data  dayoff  \n",
      "0                   364   False  \n",
      "1                   364   False  \n",
      "2                   364   False  \n",
      "3                   364   False  \n",
      "4                   364   False  \n",
      "\n",
      "\u001b[1m\u001b[91mtrain30days (3136523, 6)\u001b[0m\n",
      "          id        date  store_nbr  item_nbr  unit_sales  onpromotion\n",
      "0  122360517  2017-07-17          1     99197         1.0        False\n",
      "1  122360518  2017-07-17          1    103520         2.0        False\n",
      "2  122360519  2017-07-17          1    105574         5.0        False\n",
      "3  122360520  2017-07-17          1    105575        15.0        False\n",
      "4  122360521  2017-07-17          1    105737         1.0        False\n",
      "\n",
      "\u001b[1m\u001b[91mitems (4100, 4)\u001b[0m\n",
      "   item_nbr        family  class  perishable\n",
      "0     96995     GROCERY I   1093           0\n",
      "1     99197     GROCERY I   1067           0\n",
      "2    103501      CLEANING   3008           0\n",
      "3    103520     GROCERY I   1028           0\n",
      "4    103665  BREAD/BAKERY   2712           1\n",
      "\n",
      "\u001b[1m\u001b[91msample_train (5000, 6)\u001b[0m\n",
      "         id        date  store_nbr  item_nbr  unit_sales onpromotion\n",
      "0  89111990  2016-08-26         14   1037846       2.000       False\n",
      "1  79448550  2016-05-17         24   2011211       3.000       False\n",
      "2   8994420  2013-07-30          5    634009      11.944         NaN\n",
      "3  35917013  2014-11-24         36   1102976       8.000       False\n",
      "4  19990944  2014-03-06          5   1427659      23.000         NaN\n",
      "\n",
      "\u001b[1m\u001b[91msample_test (500, 5)\u001b[0m\n",
      "          id        date  store_nbr  item_nbr  onpromotion\n",
      "0  128159002  2017-08-28         35   1079254        False\n",
      "1  125663384  2017-08-16         43   1464041        False\n",
      "2  128080235  2017-08-28         15    592801        False\n",
      "3  125561987  2017-08-16         17   1464134        False\n",
      "4  126159135  2017-08-19          8   1695815        False\n",
      "\n",
      "\u001b[1m\u001b[91mquito_stores_sample2016-2017 (5877318, 9)\u001b[0m\n",
      "         id        date  store_nbr  item_nbr  unit_sales  onpromotion   city  \\\n",
      "0  88211471  2016-08-16         44    103520         7.0         True  Quito   \n",
      "1  88211472  2016-08-16         44    103665         7.0        False  Quito   \n",
      "2  88211473  2016-08-16         44    105574        13.0        False  Quito   \n",
      "3  88211474  2016-08-16         44    105575        18.0        False  Quito   \n",
      "4  88211475  2016-08-16         44    105577         8.0        False  Quito   \n",
      "\n",
      "       state  cluster  \n",
      "0  Pichincha        5  \n",
      "1  Pichincha        5  \n",
      "2  Pichincha        5  \n",
      "3  Pichincha        5  \n",
      "4  Pichincha        5  \n",
      "\n",
      "\u001b[1m\u001b[91moil (1218, 2)\u001b[0m\n",
      "         date  dcoilwtico\n",
      "0  2013-01-01         NaN\n",
      "1  2013-01-02       93.14\n",
      "2  2013-01-03       92.97\n",
      "3  2013-01-04       93.12\n",
      "4  2013-01-07       93.20\n",
      "\n",
      "\u001b[1m\u001b[91msample_submission (3370464, 2)\u001b[0m\n",
      "          id  unit_sales\n",
      "0  125497040           0\n",
      "1  125497041           0\n",
      "2  125497042           0\n",
      "3  125497043           0\n",
      "4  125497044           0\n",
      "\n",
      "\u001b[1m\u001b[91mcpi (60, 3)\u001b[0m\n",
      "   year  month         cpi\n",
      "0  2013      1   95.006193\n",
      "1  2014      1   97.784188\n",
      "2  2015      1  101.238093\n",
      "3  2016      1  104.366441\n",
      "4  2017      1  105.303291\n",
      "\n",
      "\u001b[1m\u001b[91mcities (22, 8)\u001b[0m\n",
      "            city  supermarkets   area touristarea  residents  \\\n",
      "0          Quito            18  urban         yes    2690000   \n",
      "1      Guayaquil             8  urban         yes    3500000   \n",
      "2  Santo Domingo             3  urban          no     305000   \n",
      "3         Cuenca             3  urban         yes     580000   \n",
      "4         Ambato             2  urban         yes     350000   \n",
      "\n",
      "               climate  avaragehightemperaturaugust  rainfallmm  \n",
      "0  subtropicalhighland                         22.2        27.7  \n",
      "1      tropicalsavanna                         25.2         1.2  \n",
      "2      tropicalmonsoon                         20.0        51.0  \n",
      "3                ocean                         13.3        47.0  \n",
      "4                ocean                         19.0        26.0  \n",
      "\n",
      "\u001b[1m\u001b[91mtransactions (83488, 3)\u001b[0m\n",
      "         date  store_nbr  transactions\n",
      "0  2013-01-01         25           770\n",
      "1  2013-01-02          1          2111\n",
      "2  2013-01-02          2          2358\n",
      "3  2013-01-02          3          3487\n",
      "4  2013-01-02          4          1922\n",
      "\n",
      "\u001b[1m\u001b[91mtest (3370464, 5)\u001b[0m\n",
      "          id        date  store_nbr  item_nbr  onpromotion\n",
      "0  125497040  2017-08-16          1     96995        False\n",
      "1  125497041  2017-08-16          1     99197        False\n",
      "2  125497042  2017-08-16          1    103501        False\n",
      "3  125497043  2017-08-16          1    103520        False\n",
      "4  125497044  2017-08-16          1    103665        False\n",
      "\n",
      "\u001b[1m\u001b[91mholidays_events (350, 6)\u001b[0m\n",
      "         date     type    locale locale_name                    description  \\\n",
      "0  2012-03-02  Holiday     Local       Manta             Fundacion de Manta   \n",
      "1  2012-04-01  Holiday  Regional    Cotopaxi  Provincializacion de Cotopaxi   \n",
      "2  2012-04-12  Holiday     Local      Cuenca            Fundacion de Cuenca   \n",
      "3  2012-04-14  Holiday     Local    Libertad      Cantonizacion de Libertad   \n",
      "4  2012-04-21  Holiday     Local    Riobamba      Cantonizacion de Riobamba   \n",
      "\n",
      "   transferred  \n",
      "0        False  \n",
      "1        False  \n",
      "2        False  \n",
      "3        False  \n",
      "4        False  \n",
      "\n",
      "\u001b[1m\u001b[91mstores (54, 5)\u001b[0m\n",
      "   store_nbr           city                           state type  cluster\n",
      "0          1          Quito                       Pichincha    D       13\n",
      "1          2          Quito                       Pichincha    D       13\n",
      "2          3          Quito                       Pichincha    D        8\n",
      "3          4          Quito                       Pichincha    D        9\n",
      "4          5  Santo Domingo  Santo Domingo de los Tsachilas    D        4\n",
      "\n"
     ]
    }
   ],
   "source": [
    "for key,value in raw.items():\n",
    "    print('\\033[1m\\033[91m' + key, str(value.shape) + '\\033[0m')\n",
    "    print(value.head())\n",
    "    print()"
   ]
  },
  {
   "cell_type": "markdown",
   "metadata": {},
   "source": [
    "#### With just this glimpse, you can start to fill out your list of assumptions, hypotheses, and questions. Some of mine are:\n",
    "- Question: What is the span of dates we are provided?\n",
    "- Question: How many distinct store_nbr values are there?\n",
    "- Question: How many distinct item_nbr values are there?\n",
    "- Hypothesis: unit_sales are always positive\n",
    "- Hypothesis: onpromotion is always either True or False\n",
    "- Hypothesis: city and state are always going to be Quito and Pichincha\n",
    "- Hypothesis: cluster is always 5\n",
    "- Question: What does cluster mean and is it important to know?\n",
    "- Question: How many records does the data contain?\n",
    "- Question: What other data files are available?"
   ]
  },
  {
   "cell_type": "markdown",
   "metadata": {},
   "source": [
    "### Here's some examples of how to address those first questions"
   ]
  },
  {
   "cell_type": "code",
   "execution_count": 26,
   "metadata": {},
   "outputs": [],
   "source": [
    "# Access an entire dataframe column like you would\n",
    "# the value in a python dictionary:\n",
    "# (The returned object has similar pandas built-in \n",
    "# functions, like 'head' and 'max')\n",
    "data = raw['store47_sample2016-2017']\n",
    "date_min = data['date'].min()\n",
    "date_max = data['date'].max()"
   ]
  },
  {
   "cell_type": "code",
   "execution_count": 27,
   "metadata": {},
   "outputs": [],
   "source": [
    "# Dataframe columns also have a 'unique' method,\n",
    "# which can answer several of our questions from above\n",
    "store_list = data['store_nbr'].unique()\n",
    "store_target = 47"
   ]
  },
  {
   "cell_type": "code",
   "execution_count": 7,
   "metadata": {},
   "outputs": [
    {
     "name": "stdout",
     "output_type": "stream",
     "text": [
      "[ 103520  103665  105574 ... 2011468 2011448 2123839]\n",
      "There are too many item numbers to display, so let's just count them for now:\n",
      "\n",
      "3717 different item_nbr values in our data\n"
     ]
    }
   ],
   "source": [
    "print(data['item_nbr'].unique())\n",
    "print(\"There are too many item numbers to display, so let's just count them for now:\")\n",
    "print(\"\\n{} different item_nbr values in our data\"\n",
    "          .format(len(data['item_nbr'].unique())))"
   ]
  },
  {
   "cell_type": "markdown",
   "metadata": {},
   "source": [
    "#### It might be helpful to know the 'shape' of our data. We could count by hand (for now) the columns, but how many rows do we have altogether?"
   ]
  },
  {
   "cell_type": "code",
   "execution_count": 8,
   "metadata": {},
   "outputs": [
    {
     "name": "stdout",
     "output_type": "stream",
     "text": [
      "(5877318, 9)\n",
      "There are 5877318 rows and 9 columns in our data\n"
     ]
    }
   ],
   "source": [
    "print(data.shape)\n",
    "print(\"There are {} rows and {} columns in our data\".format(data.shape[0], data.shape[1]))"
   ]
  },
  {
   "cell_type": "markdown",
   "metadata": {},
   "source": [
    "#### Moving along to answer our intial questions... Let's have a look at unit_sales. Keep in mind that unit sales is the variable we want to predict with our science.\n",
    "\n",
    "Each row in our data is essentially telling us a `unit_sales` number for a given `item_nbr` at a given `store_nbr` on a given `date`. That is, \"how many of an item was sold at a store on a day\"."
   ]
  },
  {
   "cell_type": "code",
   "execution_count": 16,
   "metadata": {},
   "outputs": [
    {
     "name": "stdout",
     "output_type": "stream",
     "text": [
      "unit sales smaller than zero: 477\n"
     ]
    }
   ],
   "source": [
    "print(\"unit sales smaller than zero: {}\".format(np.sum(data['unit_sales'] < 0)))"
   ]
  },
  {
   "cell_type": "code",
   "execution_count": 24,
   "metadata": {},
   "outputs": [
    {
     "name": "stdout",
     "output_type": "stream",
     "text": [
      "unit sales on promotion: 623970\n",
      "unit sales off promotion: 5253348\n",
      "unit neither on/off promotion: 0\n"
     ]
    }
   ],
   "source": [
    "on_promo = np.sum(data['onpromotion'] == True)\n",
    "off_promo = np.sum(data['onpromotion'] == False)\n",
    "print(\"unit sales on promotion: {}\".format(on_promo))\n",
    "print(\"unit sales off promotion: {}\".format(off_promo))\n",
    "print(\"unit neither on/off promotion: {}\".format(data.shape[0] - on_promo - off_promo))"
   ]
  },
  {
   "cell_type": "code",
   "execution_count": 27,
   "metadata": {},
   "outputs": [
    {
     "name": "stdout",
     "output_type": "stream",
     "text": [
      "unique states: ['Pichincha']\n"
     ]
    }
   ],
   "source": [
    "print('unique states: {}'.format(data['state'].unique()))"
   ]
  },
  {
   "cell_type": "code",
   "execution_count": null,
   "metadata": {},
   "outputs": [],
   "source": []
  }
 ],
 "metadata": {
  "kernelspec": {
   "display_name": "Python 3",
   "language": "python",
   "name": "python3"
  },
  "language_info": {
   "codemirror_mode": {
    "name": "ipython",
    "version": 3
   },
   "file_extension": ".py",
   "mimetype": "text/x-python",
   "name": "python",
   "nbconvert_exporter": "python",
   "pygments_lexer": "ipython3",
   "version": "3.7.3"
  }
 },
 "nbformat": 4,
 "nbformat_minor": 2
}
